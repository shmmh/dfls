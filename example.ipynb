{
 "cells": [
  {
   "cell_type": "code",
   "execution_count": 3,
   "metadata": {},
   "outputs": [],
   "source": [
    "from utils import parse_data"
   ]
  },
  {
   "cell_type": "code",
   "execution_count": 4,
   "metadata": {},
   "outputs": [
    {
     "name": "stdout",
     "output_type": "stream",
     "text": [
      "{\n",
      "    \"Source\": \"CH1\",\n",
      "    \"Vertical Units\": \"V\",\n",
      "    \"Vertical Scale\": \"2.0478124E-3\",\n",
      "    \"Vertical Offset\": \"0.03228\",\n",
      "    \"Horizontal Units\": \"s\",\n",
      "    \"Horizontal Scale\": \"9.999999747E-3\",\n",
      "    \"Pt Fmt\": \"Y\",\n",
      "    \"Yzero\": \"2.1681673\",\n",
      "    \"Probe Atten\": \"1.000000\",\n",
      "    \"Date\": \"08/03/2024\",\n",
      "    \"Time\": \"15:46:42\",\n",
      "    \"Model\": \"DPO3032\",\n",
      "    \"Record Length\": {\n",
      "        \"value\": \"10000\",\n",
      "        \"unit\": \"Points\"\n",
      "    },\n",
      "    \"Sample Interval\": {\n",
      "        \"value\": \"9.999999747E-6\",\n",
      "        \"unit\": \"s\"\n",
      "    },\n",
      "    \"Trigger Point\": {\n",
      "        \"value\": \"6.48000064E3\",\n",
      "        \"unit\": \"Samples\"\n",
      "    }\n",
      "}\n"
     ]
    }
   ],
   "source": [
    "data = parse_data('data/0803/zeeman/1.csv')\n",
    "\n",
    "import json\n",
    "\n",
    "print(json.dumps(data['CH1']['Trace Info'], indent=4) )"
   ]
  },
  {
   "cell_type": "code",
   "execution_count": null,
   "metadata": {},
   "outputs": [],
   "source": []
  }
 ],
 "metadata": {
  "kernelspec": {
   "display_name": "base",
   "language": "python",
   "name": "python3"
  },
  "language_info": {
   "codemirror_mode": {
    "name": "ipython",
    "version": 3
   },
   "file_extension": ".py",
   "mimetype": "text/x-python",
   "name": "python",
   "nbconvert_exporter": "python",
   "pygments_lexer": "ipython3",
   "version": "3.11.7"
  }
 },
 "nbformat": 4,
 "nbformat_minor": 2
}
